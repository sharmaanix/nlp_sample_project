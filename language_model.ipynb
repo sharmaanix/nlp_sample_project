{
  "nbformat": 4,
  "nbformat_minor": 0,
  "metadata": {
    "colab": {
      "name": "language model.ipynb",
      "provenance": [],
      "collapsed_sections": [],
      "toc_visible": true,
      "machine_shape": "hm"
    },
    "kernelspec": {
      "name": "python3",
      "display_name": "Python 3"
    },
    "accelerator": "GPU"
  },
  "cells": [
    {
      "cell_type": "markdown",
      "metadata": {
        "id": "--wtbhwwU8Mw",
        "colab_type": "text"
      },
      "source": [
        "# Importing Libraries"
      ]
    },
    {
      "cell_type": "code",
      "metadata": {
        "colab_type": "code",
        "id": "wwgHba1O1vXh",
        "colab": {}
      },
      "source": [
        "import re\n",
        "import torch\n",
        "import warnings\n",
        "import numpy as np\n",
        "from torch import nn\n",
        "import torch.nn.functional as F\n",
        "from sklearn.preprocessing import OneHotEncoder\n",
        "from torch.utils.data import DataLoader"
      ],
      "execution_count": 0,
      "outputs": []
    },
    {
      "cell_type": "code",
      "metadata": {
        "id": "V1LIDSZIelk5",
        "colab_type": "code",
        "colab": {}
      },
      "source": [
        "warnings.filterwarnings('ignore')"
      ],
      "execution_count": 0,
      "outputs": []
    },
    {
      "cell_type": "markdown",
      "metadata": {
        "id": "OCi-kVXjVX-k",
        "colab_type": "text"
      },
      "source": [
        "# Importing  Dataset"
      ]
    },
    {
      "cell_type": "code",
      "metadata": {
        "id": "dkqOMeKjVbZQ",
        "colab_type": "code",
        "outputId": "49a9e047-7979-4398-dc91-990640f31c3b",
        "colab": {
          "base_uri": "https://localhost:8080/",
          "height": 34
        }
      },
      "source": [
        "from google.colab import drive\n",
        "drive.mount('/content/drive')"
      ],
      "execution_count": 4,
      "outputs": [
        {
          "output_type": "stream",
          "text": [
            "Drive already mounted at /content/drive; to attempt to forcibly remount, call drive.mount(\"/content/drive\", force_remount=True).\n"
          ],
          "name": "stdout"
        }
      ]
    },
    {
      "cell_type": "code",
      "metadata": {
        "id": "-f4fnkflVoRX",
        "colab_type": "code",
        "outputId": "efdfb861-aa2e-4ac1-c391-3c0150ae1a57",
        "colab": {
          "base_uri": "https://localhost:8080/",
          "height": 34
        }
      },
      "source": [
        "cd drive/My\\ Drive/dataset"
      ],
      "execution_count": 5,
      "outputs": [
        {
          "output_type": "stream",
          "text": [
            "/content/drive/My Drive/dataset\n"
          ],
          "name": "stdout"
        }
      ]
    },
    {
      "cell_type": "code",
      "metadata": {
        "id": "WuGC0ZekVxdl",
        "colab_type": "code",
        "outputId": "c8591730-fab8-422e-8546-4c6cd6e78ce1",
        "colab": {
          "base_uri": "https://localhost:8080/",
          "height": 51
        }
      },
      "source": [
        "!ls"
      ],
      "execution_count": 6,
      "outputs": [
        {
          "output_type": "stream",
          "text": [
            "cifar-10-python  processed_tag\t  test.pickle\n",
            "output.csv\t shakespeare.txt  train.pickle\n"
          ],
          "name": "stdout"
        }
      ]
    },
    {
      "cell_type": "code",
      "metadata": {
        "id": "4UzVnCKjVznQ",
        "colab_type": "code",
        "colab": {}
      },
      "source": [
        "with open('shakespeare.txt', 'r') as f:\n",
        "    text = f.read()"
      ],
      "execution_count": 0,
      "outputs": []
    },
    {
      "cell_type": "code",
      "metadata": {
        "id": "kVjwKRKXODDs",
        "colab_type": "code",
        "outputId": "a003994d-ea5f-4413-a298-249179fb6716",
        "colab": {
          "base_uri": "https://localhost:8080/",
          "height": 85
        }
      },
      "source": [
        "print(text[:100])"
      ],
      "execution_count": 8,
      "outputs": [
        {
          "output_type": "stream",
          "text": [
            "\n",
            "                     1\n",
            "  From fairest creatures we desire increase,\n",
            "  That thereby beauty's rose mi\n"
          ],
          "name": "stdout"
        }
      ]
    },
    {
      "cell_type": "markdown",
      "metadata": {
        "id": "kRnZ9bHe_rdb",
        "colab_type": "text"
      },
      "source": [
        "# Pre processing text"
      ]
    },
    {
      "cell_type": "code",
      "metadata": {
        "id": "kmbEdyNVehQk",
        "colab_type": "code",
        "colab": {}
      },
      "source": [
        "class DataPreprocessing:\n",
        "  \n",
        "  def __init__(self,text):\n",
        "    self.text = text\n",
        "    \n",
        "  def display_text(self):\n",
        "    print(self.text)\n",
        "    \n",
        "  def  remove_numerals(self):\n",
        "    return re.sub(r'[0-9]+','', self.text)\n",
        "  \n",
        "  def lower_text(self):\n",
        "    return \"\".join(list(map(lambda x : x.lower(), self.text)))\n",
        "  \n",
        "  def remove_new_line(self):\n",
        "    return re.sub(\"[\\n]+\",\" \",self.text)\n",
        "  \n",
        "  def remove_multiple_spaces(self):\n",
        "    return re.sub(' +', ' ',self.text)[1:]"
      ],
      "execution_count": 0,
      "outputs": []
    },
    {
      "cell_type": "code",
      "metadata": {
        "id": "Pmi1dJdjfZfl",
        "colab_type": "code",
        "colab": {}
      },
      "source": [
        "processed_text = DataPreprocessing(text)"
      ],
      "execution_count": 0,
      "outputs": []
    },
    {
      "cell_type": "code",
      "metadata": {
        "colab_type": "code",
        "id": "AMu4tV9yufdz",
        "colab": {}
      },
      "source": [
        "setattr(processed_text,'text',processed_text.remove_numerals())"
      ],
      "execution_count": 0,
      "outputs": []
    },
    {
      "cell_type": "code",
      "metadata": {
        "colab_type": "code",
        "id": "B7tufKLPufN6",
        "colab": {}
      },
      "source": [
        "setattr(processed_text,'text',processed_text.lower_text())"
      ],
      "execution_count": 0,
      "outputs": []
    },
    {
      "cell_type": "code",
      "metadata": {
        "id": "hcH_GNZgjsA1",
        "colab_type": "code",
        "colab": {}
      },
      "source": [
        "setattr(processed_text,'text',processed_text.remove_new_line())"
      ],
      "execution_count": 0,
      "outputs": []
    },
    {
      "cell_type": "code",
      "metadata": {
        "id": "UUHrnlsXj0ua",
        "colab_type": "code",
        "colab": {}
      },
      "source": [
        "setattr(processed_text, 'text', processed_text.remove_multiple_spaces())"
      ],
      "execution_count": 0,
      "outputs": []
    },
    {
      "cell_type": "code",
      "metadata": {
        "id": "chlWEwj-uiaW",
        "colab_type": "code",
        "outputId": "ed288529-4c20-4a21-d95d-a7bd160b1b95",
        "colab": {
          "base_uri": "https://localhost:8080/",
          "height": 34
        }
      },
      "source": [
        "len(getattr(processed_text, 'text'))"
      ],
      "execution_count": 15,
      "outputs": [
        {
          "output_type": "execute_result",
          "data": {
            "text/plain": [
              "4925602"
            ]
          },
          "metadata": {
            "tags": []
          },
          "execution_count": 15
        }
      ]
    },
    {
      "cell_type": "markdown",
      "metadata": {
        "id": "Lbc1bEuRlz8s",
        "colab_type": "text"
      },
      "source": [
        "# Vectorization and One hot encoding"
      ]
    },
    {
      "cell_type": "code",
      "metadata": {
        "id": "emlKc588xXSv",
        "colab_type": "code",
        "colab": {}
      },
      "source": [
        "total_chars = tuple(set(getattr(processed_text, 'text')))"
      ],
      "execution_count": 0,
      "outputs": []
    },
    {
      "cell_type": "code",
      "metadata": {
        "id": "1xAv-2_Yx2sH",
        "colab_type": "code",
        "colab": {}
      },
      "source": [
        "int2char = dict(enumerate(total_chars))"
      ],
      "execution_count": 0,
      "outputs": []
    },
    {
      "cell_type": "code",
      "metadata": {
        "id": "Sb4stfuWyA61",
        "colab_type": "code",
        "colab": {}
      },
      "source": [
        "char2int = {ch:idx for idx,ch in int2char.items()}"
      ],
      "execution_count": 0,
      "outputs": []
    },
    {
      "cell_type": "code",
      "metadata": {
        "id": "36iyUilchAKD",
        "colab_type": "code",
        "colab": {
          "base_uri": "https://localhost:8080/",
          "height": 34
        },
        "outputId": "5ed37b09-70e2-4202-8af2-d8f5b44ed006"
      },
      "source": [
        "len(processed_text.text)"
      ],
      "execution_count": 37,
      "outputs": [
        {
          "output_type": "execute_result",
          "data": {
            "text/plain": [
              "4925602"
            ]
          },
          "metadata": {
            "tags": []
          },
          "execution_count": 37
        }
      ]
    },
    {
      "cell_type": "code",
      "metadata": {
        "id": "0Ckc6Xq7yF6j",
        "colab_type": "code",
        "colab": {}
      },
      "source": [
        "encoded_text = np.array([char2int[char] for char in getattr(processed_text,'text')])"
      ],
      "execution_count": 0,
      "outputs": []
    },
    {
      "cell_type": "code",
      "metadata": {
        "id": "sESIipHf3jl9",
        "colab_type": "code",
        "colab": {}
      },
      "source": [
        "def onehot_encoding(encoded_val): \n",
        "  onehot_encoder = OneHotEncoder(sparse=False)\n",
        "  onehot_encoded = onehot_encoder.fit_transform(encoded_val.reshape(len(encoded_val),1))\n",
        "  \n",
        "  return onehot_encoded"
      ],
      "execution_count": 0,
      "outputs": []
    },
    {
      "cell_type": "code",
      "metadata": {
        "id": "gcyAyFnJUkvA",
        "colab_type": "code",
        "colab": {}
      },
      "source": [
        "onehot_encoded = onehot_encoding(encoded_text)"
      ],
      "execution_count": 0,
      "outputs": []
    },
    {
      "cell_type": "code",
      "metadata": {
        "id": "JKr_qUiGXfFH",
        "colab_type": "code",
        "colab": {}
      },
      "source": [
        "CHAR_LEN = 25"
      ],
      "execution_count": 0,
      "outputs": []
    },
    {
      "cell_type": "code",
      "metadata": {
        "colab_type": "code",
        "id": "lQlB-tbcblTQ",
        "colab": {}
      },
      "source": [
        "train_dataset =[]\n",
        "for idx in range(len(getattr(processed_text,'text'))-CHAR_LEN):\n",
        "  train_dataset.append((onehot_encoded[idx:idx+CHAR_LEN].flatten(),onehot_encoded[idx+CHAR_LEN]))"
      ],
      "execution_count": 0,
      "outputs": []
    },
    {
      "cell_type": "code",
      "metadata": {
        "id": "3Fb8Eve7Q6_A",
        "colab_type": "code",
        "outputId": "6e80870a-fc08-4b00-90eb-bb8c94644859",
        "colab": {
          "base_uri": "https://localhost:8080/",
          "height": 163
        }
      },
      "source": [
        "loader = DataLoader(train_dataset, batch_size=10)"
      ],
      "execution_count": 1,
      "outputs": [
        {
          "output_type": "error",
          "ename": "NameError",
          "evalue": "ignored",
          "traceback": [
            "\u001b[0;31m---------------------------------------------------------------------------\u001b[0m",
            "\u001b[0;31mNameError\u001b[0m                                 Traceback (most recent call last)",
            "\u001b[0;32m<ipython-input-1-6b76be96dc5e>\u001b[0m in \u001b[0;36m<module>\u001b[0;34m()\u001b[0m\n\u001b[0;32m----> 1\u001b[0;31m \u001b[0mloader\u001b[0m \u001b[0;34m=\u001b[0m \u001b[0mDataLoader\u001b[0m\u001b[0;34m(\u001b[0m\u001b[0mtrain_dataset\u001b[0m\u001b[0;34m,\u001b[0m \u001b[0mbatch_size\u001b[0m\u001b[0;34m=\u001b[0m\u001b[0;36m10\u001b[0m\u001b[0;34m)\u001b[0m\u001b[0;34m\u001b[0m\u001b[0;34m\u001b[0m\u001b[0m\n\u001b[0m",
            "\u001b[0;31mNameError\u001b[0m: name 'DataLoader' is not defined"
          ]
        }
      ]
    },
    {
      "cell_type": "code",
      "metadata": {
        "id": "Xm58-2cGmebb",
        "colab_type": "code",
        "outputId": "e5e687f8-66ff-4ebb-f55a-4e2400144234",
        "colab": {
          "base_uri": "https://localhost:8080/",
          "height": 34
        }
      },
      "source": [
        "# Check if GPU is available\n",
        "train_on_gpu = torch.cuda.is_available()\n",
        "if(train_on_gpu):\n",
        "    print('Training on GPU!')\n",
        "else: \n",
        "    print('No GPU available, training on CPU; consider making n_epochs very small.')"
      ],
      "execution_count": 322,
      "outputs": [
        {
          "output_type": "stream",
          "text": [
            "Training on GPU!\n"
          ],
          "name": "stdout"
        }
      ]
    },
    {
      "cell_type": "code",
      "metadata": {
        "id": "2ZQ_ozhqn-Pw",
        "colab_type": "code",
        "colab": {}
      },
      "source": [
        "class LanguageModel(nn.Module):\n",
        "  \n",
        "  def __init__(self,text,n_hidden=256,drop_prob=0.5,lr=0.001):\n",
        "    super().__init__()\n",
        "    self.text = text\n",
        "    self.drop_prob = drop_prob\n",
        "    self.n_hidden = n_hidden\n",
        "    self.lr = lr\n",
        "    \n",
        "    \n",
        "    "
      ],
      "execution_count": 0,
      "outputs": []
    },
    {
      "cell_type": "code",
      "metadata": {
        "id": "jWLWbdSSoTA2",
        "colab_type": "code",
        "colab": {}
      },
      "source": [
        "model = LanguageModel(getattr(processed_text,'text'))"
      ],
      "execution_count": 0,
      "outputs": []
    },
    {
      "cell_type": "code",
      "metadata": {
        "id": "avq8Cfu7pg6L",
        "colab_type": "code",
        "outputId": "2b37202e-6221-4274-ad81-4fbb20ad49b1",
        "colab": {
          "base_uri": "https://localhost:8080/",
          "height": 51
        }
      },
      "source": [
        "model.onehot_encoder()"
      ],
      "execution_count": 367,
      "outputs": [
        {
          "output_type": "execute_result",
          "data": {
            "text/plain": [
              "array([0., 0., 1., 0., 0., 0., 0., 0., 0., 0., 0., 0., 0., 0., 0., 0., 0.,\n",
              "       0., 0., 0., 0., 0., 0., 0., 0., 0., 0., 0., 0., 0.])"
            ]
          },
          "metadata": {
            "tags": []
          },
          "execution_count": 367
        }
      ]
    }
  ]
}