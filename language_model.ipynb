{
  "nbformat": 4,
  "nbformat_minor": 0,
  "metadata": {
    "colab": {
      "name": "language model.ipynb",
      "provenance": [],
      "collapsed_sections": [],
      "toc_visible": true,
      "machine_shape": "hm"
    },
    "kernelspec": {
      "name": "python3",
      "display_name": "Python 3"
    },
    "accelerator": "GPU"
  },
  "cells": [
    {
      "cell_type": "markdown",
      "metadata": {
        "id": "--wtbhwwU8Mw",
        "colab_type": "text"
      },
      "source": [
        "# Importing Libraries"
      ]
    },
    {
      "cell_type": "code",
      "metadata": {
        "colab_type": "code",
        "id": "wwgHba1O1vXh",
        "colab": {}
      },
      "source": [
        "import re\n",
        "import torch\n",
        "import warnings\n",
        "import numpy as np\n",
        "from torch import nn\n",
        "import torch.nn.functional as F\n",
        "from sklearn.preprocessing import OneHotEncoder\n",
        "from torch.utils.data import DataLoader"
      ],
      "execution_count": 0,
      "outputs": []
    },
    {
      "cell_type": "code",
      "metadata": {
        "id": "V1LIDSZIelk5",
        "colab_type": "code",
        "colab": {}
      },
      "source": [
        "warnings.filterwarnings('ignore')"
      ],
      "execution_count": 0,
      "outputs": []
    },
    {
      "cell_type": "markdown",
      "metadata": {
        "id": "OCi-kVXjVX-k",
        "colab_type": "text"
      },
      "source": [
        "# Importing  Dataset"
      ]
    },
    {
      "cell_type": "code",
      "metadata": {
        "id": "dkqOMeKjVbZQ",
        "colab_type": "code",
        "outputId": "7010daf9-5845-4473-b594-f84b4ee7e497",
        "colab": {
          "base_uri": "https://localhost:8080/",
          "height": 122
        }
      },
      "source": [
        "from google.colab import drive\n",
        "drive.mount('/content/drive')"
      ],
      "execution_count": 3,
      "outputs": [
        {
          "output_type": "stream",
          "text": [
            "Go to this URL in a browser: https://accounts.google.com/o/oauth2/auth?client_id=947318989803-6bn6qk8qdgf4n4g3pfee6491hc0brc4i.apps.googleusercontent.com&redirect_uri=urn%3Aietf%3Awg%3Aoauth%3A2.0%3Aoob&scope=email%20https%3A%2F%2Fwww.googleapis.com%2Fauth%2Fdocs.test%20https%3A%2F%2Fwww.googleapis.com%2Fauth%2Fdrive%20https%3A%2F%2Fwww.googleapis.com%2Fauth%2Fdrive.photos.readonly%20https%3A%2F%2Fwww.googleapis.com%2Fauth%2Fpeopleapi.readonly&response_type=code\n",
            "\n",
            "Enter your authorization code:\n",
            "··········\n",
            "Mounted at /content/drive\n"
          ],
          "name": "stdout"
        }
      ]
    },
    {
      "cell_type": "code",
      "metadata": {
        "id": "-f4fnkflVoRX",
        "colab_type": "code",
        "outputId": "83318903-1e05-4b21-fd8a-74f0ad1aedfe",
        "colab": {
          "base_uri": "https://localhost:8080/",
          "height": 34
        }
      },
      "source": [
        "cd drive/My\\ Drive/dataset"
      ],
      "execution_count": 4,
      "outputs": [
        {
          "output_type": "stream",
          "text": [
            "/content/drive/My Drive/dataset\n"
          ],
          "name": "stdout"
        }
      ]
    },
    {
      "cell_type": "code",
      "metadata": {
        "id": "WuGC0ZekVxdl",
        "colab_type": "code",
        "outputId": "bfef1cc8-406b-4c03-8f40-00aa557b47ec",
        "colab": {
          "base_uri": "https://localhost:8080/",
          "height": 51
        }
      },
      "source": [
        "!ls"
      ],
      "execution_count": 5,
      "outputs": [
        {
          "output_type": "stream",
          "text": [
            "cifar-10-python  processed_tag\t  test.pickle\n",
            "output.csv\t shakespeare.txt  train.pickle\n"
          ],
          "name": "stdout"
        }
      ]
    },
    {
      "cell_type": "code",
      "metadata": {
        "id": "4UzVnCKjVznQ",
        "colab_type": "code",
        "colab": {}
      },
      "source": [
        "with open('shakespeare.txt', 'r') as f:\n",
        "    text = f.read()"
      ],
      "execution_count": 0,
      "outputs": []
    },
    {
      "cell_type": "code",
      "metadata": {
        "id": "kVjwKRKXODDs",
        "colab_type": "code",
        "outputId": "da248bc1-4fa1-4c34-a7cf-a23b37dee118",
        "colab": {
          "base_uri": "https://localhost:8080/",
          "height": 85
        }
      },
      "source": [
        "print(text[:100])"
      ],
      "execution_count": 7,
      "outputs": [
        {
          "output_type": "stream",
          "text": [
            "\n",
            "                     1\n",
            "  From fairest creatures we desire increase,\n",
            "  That thereby beauty's rose mi\n"
          ],
          "name": "stdout"
        }
      ]
    },
    {
      "cell_type": "markdown",
      "metadata": {
        "id": "kRnZ9bHe_rdb",
        "colab_type": "text"
      },
      "source": [
        "# Pre processing text"
      ]
    },
    {
      "cell_type": "code",
      "metadata": {
        "id": "kmbEdyNVehQk",
        "colab_type": "code",
        "colab": {}
      },
      "source": [
        "class DataPreprocessing:\n",
        "  \n",
        "  def __init__(self,text):\n",
        "    self.text = text\n",
        "    \n",
        "  def display_text(self):\n",
        "    print(self.text)\n",
        "    \n",
        "  def  remove_numerals(self):\n",
        "    return re.sub(r'[0-9]+','', self.text)\n",
        "  \n",
        "  def lower_text(self):\n",
        "    return \"\".join(list(map(lambda x : x.lower(), self.text)))\n",
        "  \n",
        "  def remove_new_line(self):\n",
        "    return re.sub(\"[\\n]+\",\" \",self.text)\n",
        "  \n",
        "  def remove_multiple_spaces(self):\n",
        "    return re.sub(' +', ' ',self.text)[1:]"
      ],
      "execution_count": 0,
      "outputs": []
    },
    {
      "cell_type": "code",
      "metadata": {
        "id": "Pmi1dJdjfZfl",
        "colab_type": "code",
        "colab": {}
      },
      "source": [
        "processed_text = DataPreprocessing(text)"
      ],
      "execution_count": 0,
      "outputs": []
    },
    {
      "cell_type": "code",
      "metadata": {
        "colab_type": "code",
        "id": "AMu4tV9yufdz",
        "colab": {}
      },
      "source": [
        "setattr(processed_text,'text',processed_text.remove_numerals())"
      ],
      "execution_count": 0,
      "outputs": []
    },
    {
      "cell_type": "code",
      "metadata": {
        "colab_type": "code",
        "id": "B7tufKLPufN6",
        "colab": {}
      },
      "source": [
        "setattr(processed_text,'text',processed_text.lower_text())"
      ],
      "execution_count": 0,
      "outputs": []
    },
    {
      "cell_type": "code",
      "metadata": {
        "id": "hcH_GNZgjsA1",
        "colab_type": "code",
        "colab": {}
      },
      "source": [
        "setattr(processed_text,'text',processed_text.remove_new_line())"
      ],
      "execution_count": 0,
      "outputs": []
    },
    {
      "cell_type": "code",
      "metadata": {
        "id": "UUHrnlsXj0ua",
        "colab_type": "code",
        "colab": {}
      },
      "source": [
        "setattr(processed_text, 'text', processed_text.remove_multiple_spaces())"
      ],
      "execution_count": 0,
      "outputs": []
    },
    {
      "cell_type": "markdown",
      "metadata": {
        "id": "Lbc1bEuRlz8s",
        "colab_type": "text"
      },
      "source": [
        "# Vectorization and One hot encoding"
      ]
    },
    {
      "cell_type": "code",
      "metadata": {
        "id": "7H2PsmpAjwbz",
        "colab_type": "code",
        "colab": {}
      },
      "source": [
        "class VectorizeEncode:\n",
        "  \n",
        "  def __init__(self,text):\n",
        "    self.text = text\n",
        "    self.character_dict = tuple(set(self.text))\n",
        "    self.int2char = dict(enumerate(self.character_dict))\n",
        "    self.char2int = {ch:idx for idx,ch in self.int2char.items()}\n",
        "    self.label_encoded_value = np.array([self.char2int[char] for char in self.text])\n",
        "    \n",
        "  def onehot_encoding(self):\n",
        "    onehot_encoder = OneHotEncoder(sparse=False)\n",
        "    onehot_encoded = onehot_encoder.fit_transform(self.label_encoded_value.reshape(len(self.label_encoded_value),1))\n",
        "    return onehot_encoded  "
      ],
      "execution_count": 0,
      "outputs": []
    },
    {
      "cell_type": "code",
      "metadata": {
        "id": "HHofzfyMpFzL",
        "colab_type": "code",
        "colab": {}
      },
      "source": [
        "encoded_vector = VectorizeEncode(getattr(processed_text,'text'))"
      ],
      "execution_count": 0,
      "outputs": []
    },
    {
      "cell_type": "code",
      "metadata": {
        "id": "mFxhhUiJq0cl",
        "colab_type": "code",
        "colab": {}
      },
      "source": [
        "encoded_value = np.array(encoded_vector.onehot_encoding())"
      ],
      "execution_count": 0,
      "outputs": []
    },
    {
      "cell_type": "code",
      "metadata": {
        "id": "tI6NjQrKp08W",
        "colab_type": "code",
        "colab": {}
      },
      "source": [
        "CHAR_LEN=10"
      ],
      "execution_count": 0,
      "outputs": []
    },
    {
      "cell_type": "code",
      "metadata": {
        "colab_type": "code",
        "id": "lQlB-tbcblTQ",
        "colab": {}
      },
      "source": [
        "train_dataset =[]\n",
        "for idx in range(len(encoded_value)-CHAR_LEN):\n",
        "  train_dataset.append((encoded_value[idx:idx+CHAR_LEN].flatten(), encoded_value[idx+CHAR_LEN]))"
      ],
      "execution_count": 0,
      "outputs": []
    },
    {
      "cell_type": "code",
      "metadata": {
        "id": "H9N_OzS2quWX",
        "colab_type": "code",
        "colab": {
          "base_uri": "https://localhost:8080/",
          "height": 544
        },
        "outputId": "db83c250-cd74-4942-c134-8d82160a250d"
      },
      "source": [
        "train_dataset[:1]"
      ],
      "execution_count": 19,
      "outputs": [
        {
          "output_type": "execute_result",
          "data": {
            "text/plain": [
              "[(array([0., 0., 0., 0., 0., 0., 1., 0., 0., 0., 0., 0., 0., 0., 0., 0., 0.,\n",
              "         0., 0., 0., 0., 0., 0., 0., 0., 0., 0., 0., 0., 0., 0., 0., 0., 0.,\n",
              "         0., 0., 0., 0., 0., 0., 0., 0., 0., 0., 0., 0., 0., 0., 0., 0., 0.,\n",
              "         0., 0., 0., 0., 0., 0., 0., 0., 0., 0., 0., 0., 0., 0., 0., 0., 0.,\n",
              "         1., 0., 0., 0., 0., 0., 0., 0., 0., 0., 0., 0., 0., 0., 0., 0., 0.,\n",
              "         0., 0., 0., 0., 0., 0., 0., 0., 0., 0., 0., 0., 0., 0., 0., 0., 0.,\n",
              "         0., 0., 0., 0., 0., 0., 0., 0., 0., 0., 0., 0., 0., 0., 0., 0., 0.,\n",
              "         1., 0., 0., 0., 0., 0., 0., 0., 0., 0., 0., 0., 0., 0., 0., 0., 0.,\n",
              "         0., 0., 0., 0., 0., 0., 0., 0., 0., 0., 0., 0., 0., 0., 0., 0., 0.,\n",
              "         0., 0., 0., 0., 0., 0., 0., 0., 0., 0., 0., 0., 0., 0., 0., 0., 0.,\n",
              "         0., 0., 0., 0., 0., 0., 0., 0., 0., 0., 0., 0., 1., 0., 0., 0., 0.,\n",
              "         0., 0., 0., 0., 0., 0., 0., 0., 0., 0., 1., 0., 0., 0., 0., 0., 0.,\n",
              "         0., 0., 0., 0., 0., 0., 0., 0., 0., 0., 0., 0., 0., 0., 0., 0., 0.,\n",
              "         0., 0., 0., 0., 0., 0., 0., 0., 0., 0., 0., 0., 0., 0., 0., 0., 0.,\n",
              "         0., 0., 0., 1., 0., 0., 0., 0., 0., 0., 0., 0., 0., 0., 0., 0., 0.,\n",
              "         0., 0., 0., 0., 0., 0., 0., 0., 0., 0., 0., 0., 0., 0., 0., 0., 0.,\n",
              "         0., 0., 0., 0., 0., 0., 0., 0., 0., 0., 0., 0., 0., 0., 0., 0., 0.,\n",
              "         0., 0., 0., 0., 0., 0., 0., 0., 0., 0., 0., 0., 0., 0., 0., 0., 0.,\n",
              "         0., 0., 0., 0., 0., 0., 0., 0., 0., 0., 0., 1., 0., 0., 0., 0., 0.,\n",
              "         0., 0., 0., 0., 0., 0., 0., 0., 0., 0., 0., 0., 0., 0., 0., 0., 0.,\n",
              "         0., 0., 0., 0., 0., 0., 0., 0., 0., 1., 0., 0., 0., 0., 0., 0., 0.,\n",
              "         0., 0., 0., 0., 0., 0., 0., 0., 0., 0., 0., 0., 0., 0., 0., 0., 0.,\n",
              "         0., 0., 0., 0., 0., 0., 0., 0., 0., 0., 0., 0., 0., 0., 0., 0., 0.,\n",
              "         0., 0., 0., 0., 0., 0., 1., 0., 0., 0., 0., 0., 0., 0., 0., 0., 0.,\n",
              "         0., 0., 0., 0., 0., 0., 0., 0., 0., 0., 0., 0., 0., 0., 0., 0., 0.,\n",
              "         0., 0., 0., 0., 0., 0., 0., 0., 0., 0., 0., 0., 0., 0., 0., 1., 0.,\n",
              "         0., 0., 0., 0., 0., 0., 0., 0., 0., 0., 0., 0., 0., 0., 0., 0., 0.,\n",
              "         0., 0., 0., 0., 0., 0., 0., 0., 0., 0., 0.]),\n",
              "  array([0., 0., 0., 0., 0., 0., 0., 0., 0., 0., 0., 0., 0., 0., 0., 0., 0.,\n",
              "         0., 0., 0., 0., 0., 0., 0., 0., 0., 0., 0., 0., 0., 0., 0., 0., 0.,\n",
              "         0., 0., 0., 0., 0., 0., 0., 0., 1., 0., 0., 0., 0.]))]"
            ]
          },
          "metadata": {
            "tags": []
          },
          "execution_count": 19
        }
      ]
    },
    {
      "cell_type": "code",
      "metadata": {
        "id": "ZlzFazSN7-iW",
        "colab_type": "code",
        "colab": {}
      },
      "source": [
        "BATCH_SIZE = 10"
      ],
      "execution_count": 0,
      "outputs": []
    },
    {
      "cell_type": "code",
      "metadata": {
        "id": "3Fb8Eve7Q6_A",
        "colab_type": "code",
        "colab": {}
      },
      "source": [
        "loader = DataLoader(train_dataset, batch_size=BATCH_SIZE)"
      ],
      "execution_count": 0,
      "outputs": []
    },
    {
      "cell_type": "code",
      "metadata": {
        "id": "Xm58-2cGmebb",
        "colab_type": "code",
        "outputId": "8ebccb9b-0363-4be7-fdf2-e29cc0bbd197",
        "colab": {
          "base_uri": "https://localhost:8080/",
          "height": 34
        }
      },
      "source": [
        "# Check if GPU is available\n",
        "train_on_gpu = torch.cuda.is_available()\n",
        "if(train_on_gpu):\n",
        "    print('Training on GPU!')\n",
        "else: \n",
        "    print('No GPU available, training on CPU; consider making n_epochs very small.')"
      ],
      "execution_count": 22,
      "outputs": [
        {
          "output_type": "stream",
          "text": [
            "Training on GPU!\n"
          ],
          "name": "stdout"
        }
      ]
    },
    {
      "cell_type": "markdown",
      "metadata": {
        "id": "aNHNFVFQ9LMs",
        "colab_type": "text"
      },
      "source": [
        "# Declaring Model"
      ]
    },
    {
      "cell_type": "code",
      "metadata": {
        "id": "bD6ouhAbrCem",
        "colab_type": "code",
        "colab": {}
      },
      "source": [
        "class RecurrentLanguageModel(nn.Module):\n",
        "  \n",
        "  def __init__ (self, batch, seq_len,num_layers, num_directions, hidden_size, lr=0.001, drop_prob=0.5, input_size=1):\n",
        "    \n",
        "    super().__init__()\n",
        "    \n",
        "    #lstm required dimensions\n",
        "    self.lr = lr\n",
        "    self.batch = batch\n",
        "    self.seq_len = seq_len\n",
        "    self.drop_prob = drop_prob\n",
        "    self.num_layers = num_layers\n",
        "    self.input_size = input_size\n",
        "    self.hidden_size = hidden_size\n",
        "    self.num_directions = num_directions\n",
        "    \n",
        "    self.rnn = nn.RNN(input_size=(self.seq_len,self.batch,self.input_size),\n",
        "                      hidden_size=(self.num_layers*self.num_directions, hidden_size),\n",
        "                      batch_first=True,\n",
        "                      dropout=self.drop_prob )\n",
        "    "
      ],
      "execution_count": 0,
      "outputs": []
    },
    {
      "cell_type": "code",
      "metadata": {
        "id": "2ZQ_ozhqn-Pw",
        "colab_type": "code",
        "colab": {}
      },
      "source": [
        ""
      ],
      "execution_count": 0,
      "outputs": []
    },
    {
      "cell_type": "code",
      "metadata": {
        "id": "jWLWbdSSoTA2",
        "colab_type": "code",
        "colab": {}
      },
      "source": [
        ""
      ],
      "execution_count": 0,
      "outputs": []
    },
    {
      "cell_type": "code",
      "metadata": {
        "id": "avq8Cfu7pg6L",
        "colab_type": "code",
        "colab": {}
      },
      "source": [
        ""
      ],
      "execution_count": 0,
      "outputs": []
    }
  ]
}